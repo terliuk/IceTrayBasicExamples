{
 "cells": [
  {
   "cell_type": "markdown",
   "metadata": {},
   "source": [
    "#### Different dataclasses examples\n",
    "\n",
    "IceTray has plenty of data-types that can be stored to the frames and to i3 file. This notebook describes some of them ."
   ]
  },
  {
   "cell_type": "code",
   "execution_count": 2,
   "metadata": {},
   "outputs": [
    {
     "name": "stderr",
     "output_type": "stream",
     "text": [
      "<frozen importlib._bootstrap>:241: RuntimeWarning: to-Python converter for std::vector<char, std::allocator<char> > already registered; second conversion method ignored.\n",
      "<frozen importlib._bootstrap>:241: RuntimeWarning: to-Python converter for std::vector<std::__cxx11::basic_string<char, std::char_traits<char>, std::allocator<char> >, std::allocator<std::__cxx11::basic_string<char, std::char_traits<char>, std::allocator<char> > > > already registered; second conversion method ignored.\n",
      "<frozen importlib._bootstrap>:241: RuntimeWarning: to-Python converter for std::vector<OMKey, std::allocator<OMKey> > already registered; second conversion method ignored.\n",
      "<frozen importlib._bootstrap>:241: RuntimeWarning: to-Python converter for std::vector<short, std::allocator<short> > already registered; second conversion method ignored.\n",
      "<frozen importlib._bootstrap>:241: RuntimeWarning: to-Python converter for std::vector<int, std::allocator<int> > already registered; second conversion method ignored.\n",
      "<frozen importlib._bootstrap>:241: RuntimeWarning: to-Python converter for std::vector<unsigned int, std::allocator<unsigned int> > already registered; second conversion method ignored.\n",
      "<frozen importlib._bootstrap>:241: RuntimeWarning: to-Python converter for std::vector<unsigned long, std::allocator<unsigned long> > already registered; second conversion method ignored.\n",
      "<frozen importlib._bootstrap>:241: RuntimeWarning: to-Python converter for std::vector<double, std::allocator<double> > already registered; second conversion method ignored.\n"
     ]
    }
   ],
   "source": [
    "from icecube import dataclasses, icetray\n",
    "import numpy as np"
   ]
  },
  {
   "cell_type": "markdown",
   "metadata": {},
   "source": [
    "##### Due to internal structure of icetray, bool and integer are part of icetray, while most other types belong to dataclasses\n",
    "\n",
    "Basic types can be accessed by getting its `value` field"
   ]
  },
  {
   "cell_type": "code",
   "execution_count": 3,
   "metadata": {},
   "outputs": [
    {
     "name": "stdout",
     "output_type": "stream",
     "text": [
      "I3Int(15) 15\n",
      "I3Bool(True) True\n"
     ]
    }
   ],
   "source": [
    "intval = icetray.I3Int(15)\n",
    "boolval = icetray.I3Bool(True)\n",
    "## accesing the value, for example in code\n",
    "print(intval, intval.value)\n",
    "print(boolval, boolval.value)"
   ]
  },
  {
   "cell_type": "markdown",
   "metadata": {},
   "source": [
    "#### And some other basic types\n",
    "\n",
    "WARNING: Some of the most \"key\"  (bool, integer) types are part of icetray, but most are part of dataclasses. \n",
    "\n",
    "\n",
    "##### Double "
   ]
  },
  {
   "cell_type": "code",
   "execution_count": 4,
   "metadata": {},
   "outputs": [
    {
     "data": {
      "text/plain": [
       "I3Double(66.1)"
      ]
     },
     "execution_count": 4,
     "metadata": {},
     "output_type": "execute_result"
    }
   ],
   "source": [
    "dataclasses.I3Double(66.1)"
   ]
  },
  {
   "cell_type": "markdown",
   "metadata": {},
   "source": [
    "##### Vector/array of doubles or ints "
   ]
  },
  {
   "cell_type": "code",
   "execution_count": 5,
   "metadata": {},
   "outputs": [
    {
     "data": {
      "text/plain": [
       "[0.0, 1.0, 2.0, 3.0, 4.0, 5.0, 6.0, 7.0, 8.0, 9.0]"
      ]
     },
     "execution_count": 5,
     "metadata": {},
     "output_type": "execute_result"
    }
   ],
   "source": [
    "# bindings are expecting list and not numpy array\n",
    "dataclasses.I3VectorDouble(np.arange(0,10).tolist())"
   ]
  },
  {
   "cell_type": "code",
   "execution_count": 6,
   "metadata": {},
   "outputs": [
    {
     "data": {
      "text/plain": [
       "[0, 1, 2, 3, 4, 5, 6, 7, 8, 9]"
      ]
     },
     "execution_count": 6,
     "metadata": {},
     "output_type": "execute_result"
    }
   ],
   "source": [
    "dataclasses.I3VectorInt(np.arange(0,10).tolist())"
   ]
  },
  {
   "cell_type": "markdown",
   "metadata": {},
   "source": [
    "##### map with string key and doubles as values \n",
    "\n",
    "other types have structure `I3Map<Key><ValueType>` "
   ]
  },
  {
   "cell_type": "code",
   "execution_count": 7,
   "metadata": {},
   "outputs": [
    {
     "name": "stdout",
     "output_type": "stream",
     "text": [
      "[A => 1,\n",
      "B => 3,\n",
      "C => 20]\n"
     ]
    }
   ],
   "source": [
    "map_float = dataclasses.I3MapStringDouble({\"A\":1.0, \"B\":3.0})\n",
    "map_float['C']=20.0\n",
    "print(map_float)"
   ]
  },
  {
   "cell_type": "markdown",
   "metadata": {},
   "source": [
    "##### map with string key and vector doubles as values "
   ]
  },
  {
   "cell_type": "code",
   "execution_count": 8,
   "metadata": {},
   "outputs": [
    {
     "name": "stdout",
     "output_type": "stream",
     "text": [
      "[A => [1, 1],\n",
      "B => [3, 12, 7],\n",
      "C => [10]]\n"
     ]
    }
   ],
   "source": [
    "# map with key as string and vector of doubles as data, objects can have differnt lengths\n",
    "map_vector_double = dataclasses.I3MapStringVectorDouble({\"A\":[1.0,1.0], \n",
    "                                                 \"B\" : [3.0,12.0,7.0]})\n",
    "map_vector_double['C']=[10.0]\n",
    "print(map_vector_double)"
   ]
  },
  {
   "cell_type": "markdown",
   "metadata": {},
   "source": [
    "### More complicated types"
   ]
  },
  {
   "cell_type": "code",
   "execution_count": 9,
   "metadata": {},
   "outputs": [
    {
     "name": "stdout",
     "output_type": "stream",
     "text": [
      "I3Position(0,0,100)\n"
     ]
    }
   ],
   "source": [
    "# position\n",
    "position = dataclasses.I3Position(0.0,0.0,100.0)\n",
    "print(position)"
   ]
  },
  {
   "cell_type": "code",
   "execution_count": 10,
   "metadata": {},
   "outputs": [
    {
     "name": "stdout",
     "output_type": "stream",
     "text": [
      "I3Direction(Zenith (deg): 90, Azimuth(deg): 270)\n"
     ]
    }
   ],
   "source": [
    "# direction setting as x,y,z\n",
    "direction = dataclasses.I3Direction(0.0,1.0,0.0)\n",
    "print(direction)"
   ]
  },
  {
   "cell_type": "markdown",
   "metadata": {},
   "source": [
    "### Example of more complicated type\n",
    "\n",
    "One can also write an own type in C++ and provide boost python bindings.As an example, we can use I3 particle\n",
    "Its source code can be found here: \n",
    "\n",
    "https://github.com/icecube/icetray-public/blob/main/dataclasses/private/dataclasses/physics/I3Particle.cxx \n",
    "\n",
    "https://github.com/icecube/icetray-public/blob/main/dataclasses/public/dataclasses/physics/I3Particle.h\n",
    "\n",
    "And python bindings:\n",
    "https://github.com/icecube/icetray-public/blob/main/dataclasses/private/pybindings/I3Particle.cxx"
   ]
  },
  {
   "cell_type": "code",
   "execution_count": 11,
   "metadata": {},
   "outputs": [],
   "source": [
    "my_particle = dataclasses.I3Particle()\n",
    "my_particle.pos = dataclasses.I3Position(0*icetray.I3Units.m, \n",
    "                                         0*icetray.I3Units.m,\n",
    "                                         -500*icetray.I3Units.m, )\n",
    "my_particle.dir = dataclasses.I3Direction(1.0, 0, 0)\n",
    "my_particle.time = 12520.3\n",
    "my_particle.energy = 20*icetray.I3Units.TeV\n",
    "my_particle.length = 0\n",
    "my_particle.type = dataclasses.I3Particle.ParticleType.NuEBar\n",
    "my_particle.shape = dataclasses.I3Particle.ParticleShape.Primary\n",
    "my_particle.location_type = dataclasses.I3Particle.LocationType.InActiveVolume\n",
    "### and fit status relevant for reconstruction\n",
    "my_particle.fit_status = dataclasses.I3Particle.FitStatus.NotSet "
   ]
  },
  {
   "cell_type": "code",
   "execution_count": 12,
   "metadata": {},
   "outputs": [
    {
     "name": "stdout",
     "output_type": "stream",
     "text": [
      "[ I3Particle MajorID : 16059728347854031954\n",
      "             MinorID : 0\n",
      "              Zenith : 1.5708\n",
      "             Azimuth : 3.14159\n",
      "                   X : 0\n",
      "                   Y : 0\n",
      "                   Z : -500\n",
      "                Time : 12520.3\n",
      "              Energy : 20000\n",
      "               Speed : 0.299792\n",
      "              Length : 0\n",
      "                Type : NuEBar\n",
      "        PDG encoding : -12\n",
      "               Shape : Primary\n",
      "              Status : NotSet\n",
      "            Location : InActiveVolume\n",
      "]\n"
     ]
    }
   ],
   "source": [
    "print(my_particle)"
   ]
  },
  {
   "cell_type": "markdown",
   "metadata": {},
   "source": [
    "### If you want own custom type \n",
    "\n",
    "Probably, I3Particle is too big for simple C++ example of I3MCHit can be used insted:\n",
    "\n",
    "https://github.com/icecube/icetray-public/blob/main/dataclasses/private/dataclasses/physics/I3MCHit.cxx\n",
    "\n",
    "https://github.com/icecube/icetray-public/blob/main/dataclasses/public/dataclasses/physics/I3MCHit.h\n",
    "\n",
    "\n",
    "Python bindings: https://github.com/icecube/icetray-public/blob/main/dataclasses/private/pybindings/I3MCHit/I3MCHit.cxx"
   ]
  },
  {
   "cell_type": "markdown",
   "metadata": {},
   "source": [
    "Example of usage:"
   ]
  },
  {
   "cell_type": "code",
   "execution_count": 29,
   "metadata": {},
   "outputs": [],
   "source": [
    "onemchit = dataclasses.I3MCHit()\n",
    "onemchit.time = 12345*icetray.I3Units.ns\n",
    "onemchit.npe = 1\n",
    "onemchit.charge = 1.31\n",
    "onemchit.cherenkov_distance = 100.0 * icetray.I3Units.m\n",
    "onemchit.hit_source = dataclasses.I3MCHit.I3MCHitSource.SPE"
   ]
  },
  {
   "cell_type": "code",
   "execution_count": 30,
   "metadata": {},
   "outputs": [
    {
     "name": "stdout",
     "output_type": "stream",
     "text": [
      "[I3MCHit:\n",
      "  Time          :12345\n",
      "  HitID         :-1\n",
      "  NPE           :1\n",
      "  Charge        :1.31\n",
      "  ParticleID    :0/-1\n",
      "  CherenkovDist :100\n",
      "  HitSource     :10 ]\n"
     ]
    }
   ],
   "source": [
    "print(onemchit)"
   ]
  }
 ],
 "metadata": {
  "kernelspec": {
   "display_name": "Python 3 (ipykernel)",
   "language": "python",
   "name": "python3"
  },
  "language_info": {
   "codemirror_mode": {
    "name": "ipython",
    "version": 3
   },
   "file_extension": ".py",
   "mimetype": "text/x-python",
   "name": "python",
   "nbconvert_exporter": "python",
   "pygments_lexer": "ipython3",
   "version": "3.10.12"
  }
 },
 "nbformat": 4,
 "nbformat_minor": 4
}
