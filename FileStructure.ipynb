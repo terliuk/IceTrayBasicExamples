{
 "cells": [
  {
   "cell_type": "code",
   "execution_count": 1,
   "metadata": {},
   "outputs": [
    {
     "name": "stderr",
     "output_type": "stream",
     "text": [
      "<frozen importlib._bootstrap>:241: RuntimeWarning: to-Python converter for std::vector<char, std::allocator<char> > already registered; second conversion method ignored.\n",
      "<frozen importlib._bootstrap>:241: RuntimeWarning: to-Python converter for std::vector<std::__cxx11::basic_string<char, std::char_traits<char>, std::allocator<char> >, std::allocator<std::__cxx11::basic_string<char, std::char_traits<char>, std::allocator<char> > > > already registered; second conversion method ignored.\n",
      "<frozen importlib._bootstrap>:241: RuntimeWarning: to-Python converter for std::vector<OMKey, std::allocator<OMKey> > already registered; second conversion method ignored.\n",
      "<frozen importlib._bootstrap>:241: RuntimeWarning: to-Python converter for std::vector<short, std::allocator<short> > already registered; second conversion method ignored.\n",
      "<frozen importlib._bootstrap>:241: RuntimeWarning: to-Python converter for std::vector<int, std::allocator<int> > already registered; second conversion method ignored.\n",
      "<frozen importlib._bootstrap>:241: RuntimeWarning: to-Python converter for std::vector<unsigned int, std::allocator<unsigned int> > already registered; second conversion method ignored.\n",
      "<frozen importlib._bootstrap>:241: RuntimeWarning: to-Python converter for std::vector<unsigned long, std::allocator<unsigned long> > already registered; second conversion method ignored.\n",
      "<frozen importlib._bootstrap>:241: RuntimeWarning: to-Python converter for std::vector<double, std::allocator<double> > already registered; second conversion method ignored.\n"
     ]
    }
   ],
   "source": [
    "from icecube import dataclasses, icetray, dataio\n",
    "import numpy as np\n",
    "import matplotlib.pyplot as plt"
   ]
  },
  {
   "cell_type": "markdown",
   "metadata": {},
   "source": [
    "### Frame structure of IceTray\n",
    "\n",
    "By default, IceCube software that is base for our development has the following types of frames:\n",
    "  - Simulation (S)\n",
    "  - Geometry (G)\n",
    "  - Calibration (C)\n",
    "  - DetectorStatus (D)\n",
    "  - DAQ (Q)\n",
    "  - Physics (P)\n",
    "\n",
    "This also defines hierarchy of frames. Typically,content of previous frames of different type can be accessed inside the next frames, unless new frame contains data with the same key, in what case new object is available. \n",
    "\n",
    "Special case is made for hierarchy of Q and P frames. When reader finds a new Q frame, the content of P-frame is not available. While subsequent P-frames have access to data of previous Q-frame. The main reason for that is possible frame splitting, when 1 Q frame (corresponding to DAQ reading) can be split into different events, each stored in individual P-frames. Typically frames of higher order are referred as \"parent\" frame, for example, Q frame is parent of P frame.\n",
    "\n",
    "Now, let's open an example file and look inside the frames."
   ]
  },
  {
   "cell_type": "code",
   "execution_count": 2,
   "metadata": {},
   "outputs": [],
   "source": [
    "infile = dataio.I3File(\"small_test_file.i3.bz2\")"
   ]
  },
  {
   "cell_type": "markdown",
   "metadata": {},
   "source": [
    "Each file is effectively a stream of individual indendent frames. To get the next frame in the event, one has to call `pop_frame()`, if you are interested in Q or P frame, one can use dedicated `pop_daq()` and `pop_physics()` functions. Important to note that this function gets next frame, making previous frame not accessible (unless it's data from parent frame). Let's get a P-frame and look inside:"
   ]
  },
  {
   "cell_type": "code",
   "execution_count": 3,
   "metadata": {},
   "outputs": [
    {
     "name": "stdout",
     "output_type": "stream",
     "text": [
      "[ I3Frame  (Geometry):\n",
      "  'SomeNumberOfStrings' [Geometry] ==> I3PODHolder<int> (29)\n",
      "]\n",
      "\n"
     ]
    }
   ],
   "source": [
    "frame = infile.pop_frame()\n",
    "print(frame)"
   ]
  },
  {
   "cell_type": "code",
   "execution_count": 4,
   "metadata": {},
   "outputs": [
    {
     "name": "stdout",
     "output_type": "stream",
     "text": [
      "[ I3Frame  (Calibration):\n",
      "  'SomeNumberOfStrings' [Geometry] ==> I3PODHolder<int> (29)\n",
      "  'SomeRQECalibration' [Calibration] ==> I3Map<OMKey, double> (65)\n",
      "]\n",
      "\n"
     ]
    }
   ],
   "source": [
    "frame = infile.pop_frame()\n",
    "print(frame)"
   ]
  },
  {
   "cell_type": "code",
   "execution_count": 5,
   "metadata": {},
   "outputs": [
    {
     "name": "stdout",
     "output_type": "stream",
     "text": [
      "[ I3Frame  (Simulation):\n",
      "  'SomeNumberOfStrings' [Geometry] ==> I3PODHolder<int> (29)\n",
      "  'SomeRQECalibration' [Calibration] ==> I3Map<OMKey, double> (65)\n",
      "  'SomeSimParameter' [Simulation] ==> I3PODHolder<double> (36)\n",
      "]\n",
      "\n"
     ]
    }
   ],
   "source": [
    "frame = infile.pop_frame()\n",
    "print(frame)"
   ]
  },
  {
   "cell_type": "code",
   "execution_count": 6,
   "metadata": {},
   "outputs": [
    {
     "name": "stdout",
     "output_type": "stream",
     "text": [
      "[ I3Frame  (DAQ):\n",
      "  'DAQObject1' [DAQ] ==> I3Vector<double> (838)\n",
      "  'DAQObject2' [DAQ] ==> I3Vector<double> (838)\n",
      "  'SomeNumberOfStrings' [Geometry] ==> I3PODHolder<int> (29)\n",
      "  'SomeRQECalibration' [Calibration] ==> I3Map<OMKey, double> (65)\n",
      "  'SomeSimParameter' [Simulation] ==> I3PODHolder<double> (36)\n",
      "]\n",
      "\n"
     ]
    }
   ],
   "source": [
    "frame = infile.pop_frame()\n",
    "print(frame)"
   ]
  },
  {
   "cell_type": "code",
   "execution_count": 7,
   "metadata": {},
   "outputs": [
    {
     "name": "stdout",
     "output_type": "stream",
     "text": [
      "[ I3Frame  (Physics):\n",
      "  'DAQObject1' [DAQ] ==> I3Vector<double> (838)\n",
      "  'DAQObject2' [DAQ] ==> I3Vector<double> (838)\n",
      "  'PFrameNumber' [Physics] ==> I3PODHolder<int> (29)\n",
      "  'PhysParameter' [Physics] ==> I3PODHolder<double> (36)\n",
      "  'SomeNumberOfStrings' [Geometry] ==> I3PODHolder<int> (29)\n",
      "  'SomeRQECalibration' [Calibration] ==> I3Map<OMKey, double> (65)\n",
      "  'SomeSimParameter' [Simulation] ==> I3PODHolder<double> (36)\n",
      "]\n",
      "\n"
     ]
    }
   ],
   "source": [
    "frame = infile.pop_frame()\n",
    "print(frame)"
   ]
  },
  {
   "cell_type": "code",
   "execution_count": 8,
   "metadata": {},
   "outputs": [
    {
     "name": "stdout",
     "output_type": "stream",
     "text": [
      "[ I3Frame  (Physics):\n",
      "  'DAQObject1' [DAQ] ==> I3Vector<double> (838)\n",
      "  'DAQObject2' [DAQ] ==> I3Vector<double> (838)\n",
      "  'PFrameNumber' [Physics] ==> I3PODHolder<int> (29)\n",
      "  'PhysParameter' [Physics] ==> I3PODHolder<double> (36)\n",
      "  'SomeNumberOfStrings' [Geometry] ==> I3PODHolder<int> (29)\n",
      "  'SomeRQECalibration' [Calibration] ==> I3Map<OMKey, double> (65)\n",
      "  'SomeSimParameter' [Simulation] ==> I3PODHolder<double> (36)\n",
      "]\n",
      "\n",
      "I3Double(504.94)\n",
      "[997, 839, 34, 799, 89, 416, 370, 882, 619, 623, 966, 827, 466, 742, 627, 437, 987, 504, 63, 554, 645, 865, 574, 812, 805, 432, 133, 634, 983, 113, 978, 337, 251, 55, 439, 447, 676, 22, 599, 10, 549, 117, 326, 783, 341, 413, 668, 231, 321, 64, 867, 662, 584, 638, 577, 88, 994, 658, 282, 509, 227, 90, 631, 136, 378, 597, 189, 87, 640, 209, 125, 198, 854, 388, 782, 224, 694, 478, 753, 316, 464, 948, 950, 787, 826, 916, 23, 188, 345, 545, 301, 247, 184, 181, 881, 904, 984, 266, 915, 320]\n"
     ]
    }
   ],
   "source": [
    "print(frame)\n",
    "# hethis one isan example of double stored in P frame\n",
    "print(frame['PhysParameter'])\n",
    "# here is a vector of floats \n",
    "print(frame[f'DAQObject{frame[\"PFrameNumber\"].value}'])\n",
    "###"
   ]
  },
  {
   "cell_type": "markdown",
   "metadata": {},
   "source": [
    "Now let's get the next P-frame (number 2) that contains avearage of `DAQObject1`"
   ]
  },
  {
   "cell_type": "code",
   "execution_count": 9,
   "metadata": {},
   "outputs": [
    {
     "name": "stdout",
     "output_type": "stream",
     "text": [
      "[ I3Frame  (Physics):\n",
      "  'DAQObject1' [DAQ] ==> I3Vector<double> (838)\n",
      "  'DAQObject2' [DAQ] ==> I3Vector<double> (838)\n",
      "  'PFrameNumber' [Physics] ==> I3PODHolder<int> (29)\n",
      "  'PhysParameter' [Physics] ==> I3PODHolder<double> (36)\n",
      "  'SomeNumberOfStrings' [Geometry] ==> I3PODHolder<int> (29)\n",
      "  'SomeRQECalibration' [Calibration] ==> I3Map<OMKey, double> (65)\n",
      "  'SomeSimParameter' [Simulation] ==> I3PODHolder<double> (36)\n",
      "]\n",
      "\n",
      "I3Double(-4014.21) 2\n",
      "[-4529, -4976, -4808, -4056, -3146, -3083, -3140, -4475, -4659, -3372, -3899, -4079, -4001, -3968, -3883, -4342, -4190, -4502, -3594, -3086, -3329, -3517, -3842, -3103, -3842, -4341, -4433, -4481, -3532, -4826, -4043, -4061, -3248, -4063, -3744, -3229, -4354, -3267, -3155, -4040, -3555, -4779, -4151, -4442, -4508, -4418, -4127, -3217, -3425, -4604, -4417, -3430, -4113, -4929, -3633, -4345, -4705, -4561, -3860, -3654, -4859, -4944, -3291, -3195, -4869, -4119, -4084, -3098, -3960, -3846, -3229, -4486, -3582, -3424, -3802, -4016, -4405, -4448, -3240, -3147, -4175, -4855, -3234, -3666, -4127, -4972, -3035, -4839, -4742, -4270, -4833, -4800, -4294, -4183, -4377, -3065, -4909, -4479, -3270, -4141]\n"
     ]
    }
   ],
   "source": [
    "frame = infile.pop_frame()\n",
    "print(frame)\n",
    "# hethis one is an example of double stored in P frame\n",
    "print(frame['PhysParameter'], frame[\"PFrameNumber\"].value)\n",
    "# here is a vector of floats \n",
    "print(frame[f'DAQObject{frame[\"PFrameNumber\"].value}'])"
   ]
  },
  {
   "cell_type": "markdown",
   "metadata": {},
   "source": [
    "As one can see, the frame looks close to a map/dictionary holding serialized data. In printout one can also see the type of the frame which contains certain inforamtio (for example `[DAQ]` or `[Physics]` ). The frame is agnostic to type of data it holds and supports different data types. Most of the available datatypes can be found in dataclasses object (except of `I3Int`, `I3Bool`, which is part of icetray due to historic reasons), plus in individual projects. Standard python or C++ object has to be first converted to icetray object to be stored, as it requires custom serialization. "
   ]
  },
  {
   "cell_type": "code",
   "execution_count": null,
   "metadata": {},
   "outputs": [],
   "source": []
  }
 ],
 "metadata": {
  "kernelspec": {
   "display_name": "Python 3 (ipykernel)",
   "language": "python",
   "name": "python3"
  },
  "language_info": {
   "codemirror_mode": {
    "name": "ipython",
    "version": 3
   },
   "file_extension": ".py",
   "mimetype": "text/x-python",
   "name": "python",
   "nbconvert_exporter": "python",
   "pygments_lexer": "ipython3",
   "version": "3.10.12"
  }
 },
 "nbformat": 4,
 "nbformat_minor": 4
}
