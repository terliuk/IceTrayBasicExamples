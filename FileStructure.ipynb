{
 "cells": [
  {
   "cell_type": "code",
   "execution_count": 2,
   "metadata": {},
   "outputs": [],
   "source": [
    "from icecube import dataclasses, icetray, dataio\n",
    "import numpy as np\n",
    "import matplotlib.pyplot as plt"
   ]
  },
  {
   "cell_type": "markdown",
   "metadata": {},
   "source": [
    "### Frame structure of IceTray\n",
    "\n",
    "By default, IceCube software that is base for our development has the following types of frames:\n",
    "  - Simulation (S)\n",
    "  - Geometry (G)\n",
    "  - Calibration (C)\n",
    "  - DetectorStatus (D)\n",
    "  - DAQ (Q)\n",
    "  - Physics (P)\n",
    "\n",
    "This also defines hierarchy of frames. Typically,content of previous frames of different type can be accessed inside the next frames, unless new frame contains data with the same key, in what case new object is available. \n",
    "\n",
    "Special case is made for hierarchy of Q and P frames. When reader finds a new Q frame, the content of P-frame is not available. While subsequent P-frames have access to data of previous Q-frame. The main reason for that is possible frame splitting, when 1 Q frame (corresponding to DAQ reading) can be split into different events, each stored in individual P-frames. Typically frames of higher order are referred as \"parent\" frame, for example, Q frame is parent of P frame.\n",
    "\n",
    "Now, let's open an example file and look inside the frames."
   ]
  },
  {
   "cell_type": "code",
   "execution_count": 3,
   "metadata": {},
   "outputs": [],
   "source": [
    "infile = dataio.I3File(\"small_test_file.i3.bz2\")"
   ]
  },
  {
   "cell_type": "markdown",
   "metadata": {},
   "source": [
    "Each file is effectively a stream of individual indendent frames. To get the next frame in the event, one has to call `pop_frame()`, if you are interested in Q or P frame, one can use dedicated `pop_daq()` and `pop_physics()` functions. Important to note that this function gets next frame, making previous frame not accessible (unless it's data from parent frame). Let's get a P-frame and look inside:"
   ]
  },
  {
   "cell_type": "code",
   "execution_count": 4,
   "metadata": {},
   "outputs": [
    {
     "name": "stdout",
     "output_type": "stream",
     "text": [
      "[ I3Frame  (Geometry):\n",
      "  'SomeNumberOfStrings' [Geometry] ==> I3PODHolder<int> (29)\n",
      "]\n",
      "\n"
     ]
    }
   ],
   "source": [
    "frame = infile.pop_frame()\n",
    "print(frame)"
   ]
  },
  {
   "cell_type": "code",
   "execution_count": 5,
   "metadata": {},
   "outputs": [
    {
     "name": "stdout",
     "output_type": "stream",
     "text": [
      "[ I3Frame  (Calibration):\n",
      "  'SomeNumberOfStrings' [Geometry] ==> I3PODHolder<int> (29)\n",
      "  'SomeRQECalibration' [Calibration] ==> I3Map<OMKey, double> (65)\n",
      "]\n",
      "\n"
     ]
    }
   ],
   "source": [
    "frame = infile.pop_frame()\n",
    "print(frame)"
   ]
  },
  {
   "cell_type": "code",
   "execution_count": 6,
   "metadata": {},
   "outputs": [
    {
     "name": "stdout",
     "output_type": "stream",
     "text": [
      "[ I3Frame  (Simulation):\n",
      "  'SomeNumberOfStrings' [Geometry] ==> I3PODHolder<int> (29)\n",
      "  'SomeRQECalibration' [Calibration] ==> I3Map<OMKey, double> (65)\n",
      "  'SomeSimParameter' [Simulation] ==> I3PODHolder<double> (36)\n",
      "]\n",
      "\n"
     ]
    }
   ],
   "source": [
    "frame = infile.pop_frame()\n",
    "print(frame)"
   ]
  },
  {
   "cell_type": "code",
   "execution_count": 7,
   "metadata": {},
   "outputs": [
    {
     "name": "stdout",
     "output_type": "stream",
     "text": [
      "[ I3Frame  (DAQ):\n",
      "  'DAQObject1' [DAQ] ==> I3Vector<double> (838)\n",
      "  'DAQObject2' [DAQ] ==> I3Vector<double> (838)\n",
      "  'SomeNumberOfStrings' [Geometry] ==> I3PODHolder<int> (29)\n",
      "  'SomeRQECalibration' [Calibration] ==> I3Map<OMKey, double> (65)\n",
      "  'SomeSimParameter' [Simulation] ==> I3PODHolder<double> (36)\n",
      "]\n",
      "\n"
     ]
    }
   ],
   "source": [
    "frame = infile.pop_frame()\n",
    "print(frame)"
   ]
  },
  {
   "cell_type": "code",
   "execution_count": 8,
   "metadata": {},
   "outputs": [
    {
     "name": "stdout",
     "output_type": "stream",
     "text": [
      "[ I3Frame  (Physics):\n",
      "  'DAQObject1' [DAQ] ==> I3Vector<double> (838)\n",
      "  'DAQObject2' [DAQ] ==> I3Vector<double> (838)\n",
      "  'PFrameNumber' [Physics] ==> I3PODHolder<int> (29)\n",
      "  'PhysParameter' [Physics] ==> I3PODHolder<double> (36)\n",
      "  'SomeNumberOfStrings' [Geometry] ==> I3PODHolder<int> (29)\n",
      "  'SomeRQECalibration' [Calibration] ==> I3Map<OMKey, double> (65)\n",
      "  'SomeSimParameter' [Simulation] ==> I3PODHolder<double> (36)\n",
      "]\n",
      "\n"
     ]
    }
   ],
   "source": [
    "frame = infile.pop_frame()\n",
    "print(frame)"
   ]
  },
  {
   "cell_type": "code",
   "execution_count": 9,
   "metadata": {},
   "outputs": [
    {
     "name": "stdout",
     "output_type": "stream",
     "text": [
      "[ I3Frame  (Physics):\n",
      "  'DAQObject1' [DAQ] ==> I3Vector<double> (838)\n",
      "  'DAQObject2' [DAQ] ==> I3Vector<double> (838)\n",
      "  'PFrameNumber' [Physics] ==> I3PODHolder<int> (29)\n",
      "  'PhysParameter' [Physics] ==> I3PODHolder<double> (36)\n",
      "  'SomeNumberOfStrings' [Geometry] ==> I3PODHolder<int> (29)\n",
      "  'SomeRQECalibration' [Calibration] ==> I3Map<OMKey, double> (65)\n",
      "  'SomeSimParameter' [Simulation] ==> I3PODHolder<double> (36)\n",
      "]\n",
      "\n",
      "I3Double(507.1)\n",
      "[197, 117, 932, 706, 861, 199, 109, 753, 229, 700, 384, 238, 579, 670, 673, 369, 825, 563, 325, 142, 456, 853, 223, 49, 570, 768, 969, 740, 615, 842, 118, 188, 875, 140, 587, 752, 931, 787, 623, 746, 124, 215, 840, 996, 408, 239, 264, 121, 714, 570, 777, 149, 556, 622, 779, 80, 673, 98, 754, 185, 682, 364, 17, 509, 730, 408, 391, 669, 957, 534, 582, 434, 476, 38, 508, 958, 837, 654, 680, 167, 11, 552, 194, 476, 375, 951, 180, 550, 684, 122, 56, 410, 712, 205, 279, 737, 882, 978, 843, 351]\n"
     ]
    }
   ],
   "source": [
    "print(frame)\n",
    "# hethis one isan example of double stored in P frame\n",
    "print(frame['PhysParameter'])\n",
    "# here is a vector of floats \n",
    "print(frame[f'DAQObject{frame[\"PFrameNumber\"].value}'])\n",
    "###"
   ]
  },
  {
   "cell_type": "markdown",
   "metadata": {},
   "source": [
    "Now let's get the next P-frame (number 2) that contains avearage of `DAQObject1`"
   ]
  },
  {
   "cell_type": "code",
   "execution_count": 10,
   "metadata": {},
   "outputs": [
    {
     "name": "stdout",
     "output_type": "stream",
     "text": [
      "[ I3Frame  (Physics):\n",
      "  'DAQObject1' [DAQ] ==> I3Vector<double> (838)\n",
      "  'DAQObject2' [DAQ] ==> I3Vector<double> (838)\n",
      "  'PFrameNumber' [Physics] ==> I3PODHolder<int> (29)\n",
      "  'PhysParameter' [Physics] ==> I3PODHolder<double> (36)\n",
      "  'SomeNumberOfStrings' [Geometry] ==> I3PODHolder<int> (29)\n",
      "  'SomeRQECalibration' [Calibration] ==> I3Map<OMKey, double> (65)\n",
      "  'SomeSimParameter' [Simulation] ==> I3PODHolder<double> (36)\n",
      "]\n",
      "\n",
      "I3Double(-3913.43) 2\n",
      "[-4182, -4724, -3246, -3607, -4188, -3404, -3580, -4522, -3939, -4120, -4550, -3683, -4886, -3368, -3100, -4989, -4089, -4540, -3471, -4177, -3804, -3701, -4762, -3441, -4801, -3797, -4972, -3102, -3233, -4719, -3507, -3830, -4256, -4916, -3862, -3256, -4909, -3171, -3263, -3446, -3394, -4754, -3011, -3158, -3590, -4830, -4047, -4424, -4676, -4324, -3552, -4549, -4232, -3269, -3222, -3435, -4878, -3509, -3941, -3507, -3749, -3179, -3233, -3819, -3279, -4126, -3713, -3247, -3153, -3319, -4692, -3681, -4609, -3628, -3342, -3437, -4671, -3469, -4928, -4833, -3237, -3251, -4306, -3765, -4305, -3560, -3373, -4819, -3506, -3051, -3591, -4489, -4139, -4351, -4300, -4692, -3385, -4148, -3978, -3575]\n"
     ]
    }
   ],
   "source": [
    "frame = infile.pop_physics()\n",
    "print(frame)\n",
    "# hethis one is an example of double stored in P frame\n",
    "print(frame['PhysParameter'], frame[\"PFrameNumber\"].value)\n",
    "# here is a vector of floats \n",
    "print(frame[f'DAQObject{frame[\"PFrameNumber\"].value}'])"
   ]
  },
  {
   "cell_type": "markdown",
   "metadata": {},
   "source": [
    "As one can see, the frame looks close to a map/dictionary holding serialized data. In printout one can also see the type of the frame which contains certain inforamtio (for example `[DAQ]` or `[Physics]` ). The frame is agnostic to type of data it holds and supports different data types. Most of the available datatypes can be found in dataclasses object (except of `I3Int`, `I3Bool`, which is part of icetray due to historic reasons), plus in individual projects. Standard python or C++ object has to be first converted to icetray object to be stored, as it requires custom serialization. "
   ]
  }
 ],
 "metadata": {
  "kernelspec": {
   "display_name": "Python 3 (ipykernel)",
   "language": "python",
   "name": "python3"
  },
  "language_info": {
   "codemirror_mode": {
    "name": "ipython",
    "version": 3
   },
   "file_extension": ".py",
   "mimetype": "text/x-python",
   "name": "python",
   "nbconvert_exporter": "python",
   "pygments_lexer": "ipython3",
   "version": "3.10.12"
  }
 },
 "nbformat": 4,
 "nbformat_minor": 4
}
