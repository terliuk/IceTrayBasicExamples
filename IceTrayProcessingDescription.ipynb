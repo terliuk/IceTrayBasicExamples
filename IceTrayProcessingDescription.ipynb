{
 "cells": [
  {
   "cell_type": "markdown",
   "metadata": {},
   "source": [
    "### Introduction to Tray processing \n",
    "  by Andrii Terliuk\n",
    "\n",
    "\n",
    "#### Simple introduction\n",
    "First, lets run a couple of examples and understand how the tray works. The main idea of tray - it is an interface that passes events/frames from one module to another one. \n",
    "\n",
    "There is an example of running tray in `TrayProcessingExample.py` and `TrayFunctionModule.py`. The tray is created by running \n",
    "\n",
    "`tray = I3Tray()`\n",
    "and then adding modules as \n",
    "```python\n",
    "tray.AddModule(reader/generator)\n",
    "tray.AddModule(SomeModule_1)\n",
    "tray.AddModule(SomeModule_2)\n",
    "...\n",
    "tray.AddModule(writer,)\n",
    "```\n",
    "\n",
    "The tray is then executed at line `tray.Execute(n_frames)`, where `n_frames` is number of frames to run, if omitted - all frames will be processes/executed."
   ]
  },
  {
   "cell_type": "code",
   "execution_count": 1,
   "metadata": {
    "collapsed": true,
    "jupyter": {
     "outputs_hidden": true
    },
    "scrolled": true
   },
   "outputs": [
    {
     "name": "stderr",
     "output_type": "stream",
     "text": [
      "<frozen importlib._bootstrap>:241: RuntimeWarning: to-Python converter for std::vector<char, std::allocator<char> > already registered; second conversion method ignored.\n",
      "<frozen importlib._bootstrap>:241: RuntimeWarning: to-Python converter for std::vector<std::__cxx11::basic_string<char, std::char_traits<char>, std::allocator<char> >, std::allocator<std::__cxx11::basic_string<char, std::char_traits<char>, std::allocator<char> > > > already registered; second conversion method ignored.\n",
      "<frozen importlib._bootstrap>:241: RuntimeWarning: to-Python converter for std::vector<OMKey, std::allocator<OMKey> > already registered; second conversion method ignored.\n",
      "<frozen importlib._bootstrap>:241: RuntimeWarning: to-Python converter for std::vector<short, std::allocator<short> > already registered; second conversion method ignored.\n",
      "<frozen importlib._bootstrap>:241: RuntimeWarning: to-Python converter for std::vector<int, std::allocator<int> > already registered; second conversion method ignored.\n",
      "<frozen importlib._bootstrap>:241: RuntimeWarning: to-Python converter for std::vector<unsigned int, std::allocator<unsigned int> > already registered; second conversion method ignored.\n",
      "<frozen importlib._bootstrap>:241: RuntimeWarning: to-Python converter for std::vector<unsigned long, std::allocator<unsigned long> > already registered; second conversion method ignored.\n",
      "<frozen importlib._bootstrap>:241: RuntimeWarning: to-Python converter for std::vector<double, std::allocator<double> > already registered; second conversion method ignored.\n"
     ]
    }
   ],
   "source": [
    "from icecube import dataclasses,dataio\n",
    "import numpy as np"
   ]
  },
  {
   "cell_type": "markdown",
   "metadata": {},
   "source": [
    "### Basic explanation of tray usage example:\n",
    "\n",
    "First - we create tray\n",
    "```python\n",
    "tray = I3Tray()\n",
    "```\n",
    "Then we add an infinite stream of DAQ frames. It will be producing empty DAQ event frames:\n",
    "```python\n",
    "tray.AddModule(\"I3InfiniteSource\",\"streams\",\n",
    "                Stream=icetray.I3Frame.DAQ,\n",
    "               )\n",
    "```\n",
    "And now we add two simple example modules from `ExampleModules.py`. The first one is an example of generator module that in this case produces a vector of random doubles of given length.\n",
    "```python\n",
    "from ExampleModules import ExampleGenerator\n",
    "tray.AddModule(ExampleGenerator, \n",
    "               Size=1000, \n",
    "               Mean=0.0, \n",
    "               Sigma = 10.0, \n",
    "               Outname =\"RandomVector\",\n",
    "               Nevents = options.NEVENTS)\n",
    "```\n",
    "And the next module just calculates average  as module\n",
    "```python\n",
    "from ExampleModules import AveragingModule\n",
    "tray.AddModule(ExampleModule, \n",
    "               Input=\"RandomVector\",\n",
    "               Output =\"AverageFromModule\"\n",
    "               )\n",
    "```\n",
    "and as a function (same as module). However, we have to explicitly define which streams will be used (otherwise, only P-frames are processed with this function)\n",
    "```python\n",
    "from ExampleModules import AveragingFunction\n",
    "tray.AddModule(AveragingFunction, \n",
    "               Input=\"RandomVector\",\n",
    "               Output =\"AverageFromFunction\", \n",
    "               Streams = [icetray.I3Frame.DAQ]\n",
    "               )\n",
    "```\n",
    "\n",
    "and finally - we want to write the output\n",
    "```\n",
    "tray.AddModule(\"I3Writer\",\"writer\",\n",
    "    Filename = options.OUTFILE,\n",
    "    Streams = [icetray.I3Frame.DAQ],\n",
    "    )\n",
    "```\n",
    "Once tray is created, we have only to execute it \n",
    "```python\n",
    "tray.Execute()\n",
    "```\n",
    "#### Let's run the script now"
   ]
  },
  {
   "cell_type": "code",
   "execution_count": 11,
   "metadata": {},
   "outputs": [
    {
     "name": "stdout",
     "output_type": "stream",
     "text": [
      "<frozen importlib._bootstrap>:241: RuntimeWarning: to-Python converter for std::vector<char, std::allocator<char> > already registered; second conversion method ignored.\n",
      "<frozen importlib._bootstrap>:241: RuntimeWarning: to-Python converter for std::vector<std::__cxx11::basic_string<char, std::char_traits<char>, std::allocator<char> >, std::allocator<std::__cxx11::basic_string<char, std::char_traits<char>, std::allocator<char> > > > already registered; second conversion method ignored.\n",
      "<frozen importlib._bootstrap>:241: RuntimeWarning: to-Python converter for std::vector<OMKey, std::allocator<OMKey> > already registered; second conversion method ignored.\n",
      "<frozen importlib._bootstrap>:241: RuntimeWarning: to-Python converter for std::vector<short, std::allocator<short> > already registered; second conversion method ignored.\n",
      "<frozen importlib._bootstrap>:241: RuntimeWarning: to-Python converter for std::vector<int, std::allocator<int> > already registered; second conversion method ignored.\n",
      "<frozen importlib._bootstrap>:241: RuntimeWarning: to-Python converter for std::vector<unsigned int, std::allocator<unsigned int> > already registered; second conversion method ignored.\n",
      "<frozen importlib._bootstrap>:241: RuntimeWarning: to-Python converter for std::vector<unsigned long, std::allocator<unsigned long> > already registered; second conversion method ignored.\n",
      "<frozen importlib._bootstrap>:241: RuntimeWarning: to-Python converter for std::vector<double, std::allocator<double> > already registered; second conversion method ignored.\n",
      "\u001b[1mNOTICE (I3Tray):\u001b[0m I3Tray finishing... (\u001b[1mI3Tray.cxx:526\u001b[0m in \u001b[1mvoid I3Tray::Execute(bool, unsigned int)\u001b[0m)\n",
      "\u001b[1mINFO (I3ConditionalModule):\u001b[0m 100 frames written. (\u001b[1mI3WriterBase.cxx:146\u001b[0m in \u001b[1mvirtual void I3WriterBase::Finish()\u001b[0m)\n",
      "Done\n"
     ]
    }
   ],
   "source": [
    "! python3 IceTrayProcessingExample.py -o test_ex1.i3 -n 100"
   ]
  },
  {
   "cell_type": "markdown",
   "metadata": {},
   "source": [
    "#### And let's check what is inside first frame"
   ]
  },
  {
   "cell_type": "code",
   "execution_count": 12,
   "metadata": {},
   "outputs": [
    {
     "name": "stdout",
     "output_type": "stream",
     "text": [
      "[ I3Frame  (DAQ):\n",
      "  'AverageFromFunction' [DAQ] ==> I3PODHolder<double> (36)\n",
      "  'AverageFromModule' [DAQ] ==> I3PODHolder<double> (36)\n",
      "  'RandomVector' [DAQ] ==> I3Vector<double> (8038)\n",
      "]\n",
      "\n"
     ]
    }
   ],
   "source": [
    "infile1= dataio.I3File(\"test_ex1.i3\")\n",
    "frame1= infile1.pop_daq()\n",
    "print(frame1)"
   ]
  },
  {
   "cell_type": "markdown",
   "metadata": {},
   "source": [
    "and inside created objects and print first to elements of created vector and computed average"
   ]
  },
  {
   "cell_type": "code",
   "execution_count": 13,
   "metadata": {},
   "outputs": [
    {
     "name": "stdout",
     "output_type": "stream",
     "text": [
      "<class 'icecube._dataclasses.I3VectorDouble'> 1000\n",
      "[4.2794, -8.26218, -3.76731, 6.00036, 10.9956, -6.4164, -5.46859, -1.24741, -21.1018, -5.97079]\n",
      "Average from module :  0.6624098840944088\n",
      "Average from function :  0.6624098840944088\n"
     ]
    }
   ],
   "source": [
    "vec = frame1['RandomVector']\n",
    "print(type(vec), len(vec))\n",
    "print(vec[0:10])\n",
    "print(\"Average from module : \", frame1['AverageFromModule'].value)\n",
    "print(\"Average from function : \", frame1['AverageFromFunction'].value)"
   ]
  },
  {
   "cell_type": "markdown",
   "metadata": {},
   "source": [
    "### Example of module class\n",
    "\n",
    "A typical module class has the following strucuture\n",
    "```python\n",
    "class ExampleGenerator(icetray.I3Module):\n",
    "\n",
    "    def __init__(self, context):\n",
    "        icetray.I3Module.__init__(self, context)\n",
    "        ...\n",
    "  \n",
    "    def Configure(self):\n",
    "        ... \n",
    "\n",
    "    def Geometry(self, frame):\n",
    "        ...\n",
    "    def DAQ(self, frame):\n",
    "        ...\n",
    "    def Physics(self, frame):\n",
    "        ...\n",
    "\n",
    "```\n",
    "The first initialization part adds parameters or creates parts of module that are \"static\".\n",
    "\n",
    "In configuration, input parameters are read and configuration of the module is perfromed. \n",
    "\n",
    "At the end, `DAQ` funtion processes DAQ frames and pushes it further. The same structure functions exist for `Physics`, `Simulation`, `Geometry` etc frames. \n",
    "\n",
    "\n",
    "\n",
    "#### Processing module\n",
    "Let's look inside the `ExampleModules.py` for examples of the modules. A simple module that caclulates average is explained below . First, we create a simple initialization that adds two options - input and output names: \n",
    "```python\n",
    "class ExampleModule(icetray.I3Module):\n",
    "    \"\"\"\n",
    "    Simple module that calculate average as an example \n",
    "    \"\"\"\n",
    "    def __init__(self, context):\n",
    "        \"\"\"\n",
    "        This is initialization function, where one defines parameters\n",
    "        \"\"\"\n",
    "        icetray.I3Module.__init__(self, context)\n",
    "        self.AddParameter(\"Input\", \"input name\", \"\")  \n",
    "        self.AddParameter(\"Output\", \"output name\", \"\")\n",
    "        self.AddOutBox('OutBox')   \n",
    "```\n",
    "In configuration we read the values of these parameters\n",
    "```python\n",
    "    def Configure(self):\n",
    "        \"\"\"\n",
    "        This function configures the module, for example - get parameters etc.\n",
    "        \"\"\"\n",
    "        self.input = self.GetParameter(\"Input\")\n",
    "        self.output = self.GetParameter(\"Output\")\n",
    "```\n",
    "And at the  end, this is the function that creates avearage of the vector, writes it to output and pushes the frame further \n",
    "```python\n",
    "    def DAQ(self, frame):\n",
    "        \"\"\"\n",
    "        Processing of the frame\n",
    "        \"\"\"\n",
    "        frame[self.output] = dataclasses.I3Double(np.mean(frame[self.input]) )\n",
    "        self.PushFrame(frame)\n",
    "```\n",
    "\n",
    "#### Example of generator module\n",
    "\n",
    "This module puts information to the frame and, in this particular case, stops processing and interrupts the tray once it created certain number of frames. Its structure is rather similar to previous example, however, there is one small detail in configuration, where I add counter\n",
    "```python\n",
    "def Configure(self):\n",
    "    ...\n",
    "    self.counter = 0\n",
    "```\n",
    "and in frame processing, i increase number of counter. And once it reaches desired value - interrupt the process:\n",
    "```python\n",
    "    def DAQ(self, frame):\n",
    "        ...\n",
    "        self.PushFrame(frame)\n",
    "        self.counter +=1\n",
    "        if self.counter >= self.nevents:\n",
    "            self.RequestSuspension()\n",
    "```"
   ]
  },
  {
   "cell_type": "markdown",
   "metadata": {},
   "source": [
    "#### Example of function module\n",
    "\n",
    "Often, simple calculations can be done with a simple function and full module class is not necessary. This can particularly useful for easy funtions or during testing. In this example I crate function that expectes frame and has two parameters - `input` and `output`. Inside - it does very basic calculation and returns `True`. If `False` is return, then frame is dropped from further processing (and output)\n",
    "```python\n",
    "def AveragingFunction(frame, input, output):\n",
    "    frame[output] = dataclasses.I3Double(np.array(frame[input]).mean())\n",
    "    return(True)\n",
    "\n",
    "```\n",
    "When frame returns True, it is passed further. However, one can return False for certain frames. This process will remove frame from processing and will remove it. To add this functional module, ones need to do the following: \n",
    "```python\n",
    "tray.AddModule(GetAverage, \n",
    "               input=\"RandomVector\", \n",
    "               output= \"AverageFromFunction\",\n",
    "               Streams = [icetray.I3Frame.DAQ])\n",
    "```\n",
    "It is important to note, that is function runs on `Physics` frames by default and to force it ti use DAQ ones, one has to add `Streams = [icetray.I3Frame.DAQ]`.\n",
    "\n",
    "Let's run it and check the output"
   ]
  },
  {
   "cell_type": "markdown",
   "metadata": {},
   "source": [
    "### Summary\n",
    "\n",
    "This example showed basics of event processing with the tray. It gives user an ability to write and process events in extremely flexible way. In particular, one can store a large variety of hierarchical/heterogeneous data inside the frames. More complicated object corresponding to real physics processes can be created as well. Further information can be found in DataTypesExample notebook."
   ]
  }
 ],
 "metadata": {
  "kernelspec": {
   "display_name": "Python 3 (ipykernel)",
   "language": "python",
   "name": "python3"
  },
  "language_info": {
   "codemirror_mode": {
    "name": "ipython",
    "version": 3
   },
   "file_extension": ".py",
   "mimetype": "text/x-python",
   "name": "python",
   "nbconvert_exporter": "python",
   "pygments_lexer": "ipython3",
   "version": "3.10.12"
  }
 },
 "nbformat": 4,
 "nbformat_minor": 4
}
