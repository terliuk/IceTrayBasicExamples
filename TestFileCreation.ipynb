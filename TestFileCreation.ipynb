{
 "cells": [
  {
   "cell_type": "markdown",
   "metadata": {},
   "source": [
    "### Creating test file for examples"
   ]
  },
  {
   "cell_type": "code",
   "execution_count": 3,
   "metadata": {},
   "outputs": [],
   "source": [
    "from icecube import icetray, dataio, dataclasses\n",
    "import numpy as np"
   ]
  },
  {
   "cell_type": "markdown",
   "metadata": {},
   "source": [
    "This is a simple tutorial that writes dummy information to file. \n",
    "\n",
    "First, we create a dummy frame of Geometry frame, then we create simulation frame with some other parameter. \n",
    "Afterwards, we create DAQ frame and few subsequent P frames. \n",
    "\n",
    "This will result in the structure: `[G,S,Q,P,P,Q,P,P,Q,P,P,...]`"
   ]
  },
  {
   "cell_type": "code",
   "execution_count": 2,
   "metadata": {},
   "outputs": [],
   "source": [
    "outfile = dataio.I3File(\"small_test_file.i3.bz2\",\"w\")\n",
    "# \"Geometry parameter\" \n",
    "gframe = icetray.I3Frame(icetray.I3Frame.Geometry)\n",
    "gframe['SomeNumberOfStrings'] = icetray.I3Int(60)\n",
    "outfile.push(gframe)\n",
    "###\n",
    "cframe = icetray.I3Frame(icetray.I3Frame.Calibration)\n",
    "cframe['SomeRQECalibration'] = dataclasses.I3MapKeyDouble(\n",
    "                    {icetray.OMKey(1,1) : 1.05}\n",
    "            )\n",
    "outfile.push(cframe)\n",
    "# \"Simulation parameter\" \n",
    "sframe = icetray.I3Frame(icetray.I3Frame.Simulation)\n",
    "sframe['SomeSimParameter'] = dataclasses.I3Double(34.0)\n",
    "outfile.push(sframe)\n",
    "# Iterating to create 10 Q frames \n",
    "for i in range(0,10):\n",
    "    qframe=icetray.I3Frame(icetray.I3Frame.DAQ)\n",
    "    qframe['DAQObject1']=dataclasses.I3VectorDouble(np.random.randint(0,1000, size=100).tolist())\n",
    "    qframe['DAQObject2']=dataclasses.I3VectorDouble(np.random.randint(-5000,-3000, size=100).tolist())\n",
    "    outfile.push(qframe)\n",
    "    for j in [1,2]:\n",
    "        # And some typical P-frame\n",
    "        pframe = icetray.I3Frame(icetray.I3Frame.Physics)\n",
    "        pframe['PFrameNumber']= icetray.I3Int(j)\n",
    "        pframe['PhysParameter'] = dataclasses.I3Double(np.mean(list(qframe[f'DAQObject{j}'])))\n",
    "        outfile.push(pframe)\n",
    "outfile.close()"
   ]
  },
  {
   "cell_type": "markdown",
   "metadata": {},
   "source": [
    "Now - proceed to the next tutorial explaining file strucutre"
   ]
  }
 ],
 "metadata": {
  "kernelspec": {
   "display_name": "Python 3 (ipykernel)",
   "language": "python",
   "name": "python3"
  },
  "language_info": {
   "codemirror_mode": {
    "name": "ipython",
    "version": 3
   },
   "file_extension": ".py",
   "mimetype": "text/x-python",
   "name": "python",
   "nbconvert_exporter": "python",
   "pygments_lexer": "ipython3",
   "version": "3.10.12"
  }
 },
 "nbformat": 4,
 "nbformat_minor": 4
}
